{
 "cells": [
  {
   "cell_type": "code",
   "execution_count": 2,
   "id": "fdc5d133-7902-43e1-9f5f-7a61895a31ab",
   "metadata": {},
   "outputs": [],
   "source": [
    "import os\n",
    "from PIL import Image\n",
    "import glob\n",
    "import os"
   ]
  },
  {
   "cell_type": "code",
   "execution_count": 5,
   "id": "c61f1d44-85bf-4193-9422-fe1310452010",
   "metadata": {},
   "outputs": [
    {
     "name": "stdout",
     "output_type": "stream",
     "text": [
      "Deleted 0 images.\n"
     ]
    }
   ],
   "source": [
    "num_skipped = 0\n",
    "for folder_name in (\"Cat\", \"Dog\"):\n",
    "    folder_path = os.path.join(\"PetImages\", folder_name)\n",
    "    for fname in os.listdir(folder_path):\n",
    "        fpath = os.path.join(folder_path, fname)\n",
    "        try:\n",
    "            fobj = open(fpath, \"rb\")\n",
    "            is_jfif = b\"JFIF\" in fobj.peek(10)\n",
    "        finally:\n",
    "            fobj.close()\n",
    "\n",
    "        if not is_jfif:\n",
    "            num_skipped += 1\n",
    "            # Delete corrupted image\n",
    "            os.remove(fpath)\n",
    "\n",
    "print(f\"Deleted {num_skipped} images.\")"
   ]
  },
  {
   "cell_type": "code",
   "execution_count": 15,
   "id": "94ec4863-e437-431d-9eda-46243c1551e4",
   "metadata": {},
   "outputs": [],
   "source": [
    "img_list = glob.glob(\"/mnt/c/Users/aravi/Documents/Projects/project-codes/PetImages/*/*.jpg\")"
   ]
  },
  {
   "cell_type": "code",
   "execution_count": 16,
   "id": "42025589-cb96-4b1d-9336-29b0f1bda104",
   "metadata": {},
   "outputs": [
    {
     "data": {
      "text/plain": [
       "23262"
      ]
     },
     "execution_count": 16,
     "metadata": {},
     "output_type": "execute_result"
    }
   ],
   "source": [
    "len(img_list)"
   ]
  },
  {
   "cell_type": "code",
   "execution_count": 17,
   "id": "f7e8ebd2-5441-4dd9-ae68-a3af1be1d08d",
   "metadata": {},
   "outputs": [],
   "source": [
    "for i in img_list:\n",
    "    try:\n",
    "        with Image.open(i) as img:\n",
    "            img.verify()\n",
    "    except:\n",
    "        print(i)\n",
    "        continue"
   ]
  }
 ],
 "metadata": {
  "kernelspec": {
   "display_name": "TF_env",
   "language": "python",
   "name": "tf_env"
  },
  "language_info": {
   "codemirror_mode": {
    "name": "ipython",
    "version": 3
   },
   "file_extension": ".py",
   "mimetype": "text/x-python",
   "name": "python",
   "nbconvert_exporter": "python",
   "pygments_lexer": "ipython3",
   "version": "3.9.18"
  }
 },
 "nbformat": 4,
 "nbformat_minor": 5
}
